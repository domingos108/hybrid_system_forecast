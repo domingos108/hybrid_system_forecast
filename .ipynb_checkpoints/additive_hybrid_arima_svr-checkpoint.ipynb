{
 "cells": [
  {
   "cell_type": "code",
   "execution_count": 7,
   "metadata": {},
   "outputs": [
    {
     "name": "stdout",
     "output_type": "stream",
     "text": [
      "The autoreload extension is already loaded. To reload it, use:\n",
      "  %reload_ext autoreload\n"
     ]
    }
   ],
   "source": [
    "import json\n",
    "from IPython.display import clear_output\n",
    "import time\n",
    "import warnings\n",
    "import os\n",
    "\n",
    "from sklearn.svm import SVR\n",
    "from sklearn import preprocessing\n",
    "from sklearn.model_selection import ParameterGrid\n",
    "from tqdm import tnrange, tqdm_notebook\n",
    "import pandas as pd\n",
    "import numpy as np\n",
    "\n",
    "import matplotlib.pyplot as plt\n",
    "from matplotlib.pylab import rcParams\n",
    "\n",
    "import fit_predict_models as fpm\n",
    "import utils as ut\n",
    "\n",
    "warnings.filterwarnings('ignore')\n",
    "%matplotlib inline\n",
    "rcParams['figure.figsize'] = 15, 6\n",
    "\n",
    "%load_ext autoreload\n",
    "\n",
    "%autoreload 2"
   ]
  },
  {
   "cell_type": "code",
   "execution_count": 8,
   "metadata": {},
   "outputs": [],
   "source": [
    "def do_grid_search(predicted,real,test_size,val_size):\n",
    "\n",
    "    parameters = {\n",
    "                  'c': [0.001, 0.01, 10, 100, 1000], \n",
    "                  'gamma': [0.1, 0.01, 0.001, 0.0001],\n",
    "                  'epsilon': [0.1, 0.01, 0.001], \n",
    "                  'tol': [0.01, 0.001, 0.0001],\n",
    "                  'time_window':[2,5,10,15,20]\n",
    "                 }\n",
    "\n",
    "    best_model = None\n",
    "    metric = 'MSE'\n",
    "    best_result = {'time_window':0,metric:None}\n",
    "    result_type = ut.result_options.val_result\n",
    "\n",
    "    list_params=list(ParameterGrid(parameters))\n",
    "    \n",
    "    for params in tqdm_notebook(list_params,desc='GridSearch'):\n",
    "        \n",
    "        result = None\n",
    "\n",
    "        forecaster = SVR(C=params['c'], gamma=params['gamma'], \n",
    "                         epsilon=params['epsilon'], tol=params['tol'], max_iter=100000)\n",
    " \n",
    "        result = fpm.additive_hybrid_model(predicted,real,\n",
    "                                           time_window=params['time_window'],\n",
    "                                           base_model=forecaster,\n",
    "                                           test_size=test_size,\n",
    "                                           val_size=val_size,\n",
    "                                           result_options=result_type,\n",
    "                                           title='None',\n",
    "                                           type_data=0)[metric]\n",
    "\n",
    "        if best_result[metric] == None:\n",
    "            best_model = forecaster\n",
    "            best_result[metric] = result\n",
    "            best_result['time_window'] = params['time_window']\n",
    "        else:\n",
    "\n",
    "            if best_result[metric] > result:\n",
    "                best_model = forecaster\n",
    "                best_result[metric] = result\n",
    "                best_result['time_window'] = params['time_window']\n",
    "\n",
    "    result_model = {'best_result': best_result, 'model': best_model}\n",
    "    return result_model"
   ]
  },
  {
   "cell_type": "code",
   "execution_count": 9,
   "metadata": {
    "scrolled": true
   },
   "outputs": [],
   "source": [
    "def run_all_bases(base_model, data):\n",
    "    for i in data:\n",
    "        clear_output()\n",
    "        base_actual = pd.read_excel(open(i['path_data']\n",
    "                              , 'rb'), sheet_name='Planilha1')\n",
    "        \n",
    "        real = base_actual['Target'].values\n",
    "\n",
    "        predicted = base_actual[base_model].values\n",
    "\n",
    "        data_title = 'zhang_'+str(base_model)+'_SVR'\n",
    "\n",
    "        print(i['name'])\n",
    "        test_size=i['test_size']\n",
    "        val_size= i['val_size']\n",
    "        type_data = i['type_data']\n",
    "        gs_result = do_grid_search(predicted=predicted,real=real,\n",
    "                                   test_size=test_size,val_size=val_size)\n",
    "        print(gs_result)\n",
    "        os.mkdir(f'./models_pkl/{type_data}-{data_title}')\n",
    "        title_temp = f'{type_data}-{data_title}/{type_data}-{data_title}'\n",
    "\n",
    "        fpm.additive_hybrid_model(predicted=predicted,real=real,\n",
    "                                 time_window=gs_result['best_result']['time_window'],\n",
    "                                 base_model=gs_result['model'],test_size=test_size,\n",
    "                                 val_size=val_size, result_options=ut.result_options.save_result,\n",
    "                                 title=f'./models_pkl/{title_temp}', type_data=type_data)\n"
   ]
  },
  {
   "cell_type": "code",
   "execution_count": 10,
   "metadata": {},
   "outputs": [
    {
     "name": "stdout",
     "output_type": "stream",
     "text": [
      "recife\n"
     ]
    },
    {
     "data": {
      "application/vnd.jupyter.widget-view+json": {
       "model_id": "473b722188f846b3b77d13b38eb71600",
       "version_major": 2,
       "version_minor": 0
      },
      "text/plain": [
       "HBox(children=(IntProgress(value=0, description='GridSearch', max=900, style=ProgressStyle(description_width='…"
      ]
     },
     "metadata": {},
     "output_type": "display_data"
    },
    {
     "name": "stdout",
     "output_type": "stream",
     "text": [
      "\n",
      "{'best_result': {'time_window': 15, 'MSE': 0.03705198544054392}, 'model': SVR(C=10, cache_size=200, coef0=0.0, degree=3, epsilon=0.1, gamma=0.01,\n",
      "    kernel='rbf', max_iter=100000, shrinking=True, tol=0.01, verbose=False)}\n"
     ]
    }
   ],
   "source": [
    "with open('./models_configuration_60_20_20.json') as f:\n",
    "    data = json.load(f)\n",
    "    \n",
    "run_all_bases('ARIMA', data)"
   ]
  },
  {
   "cell_type": "code",
   "execution_count": null,
   "metadata": {},
   "outputs": [
    {
     "name": "stdout",
     "output_type": "stream",
     "text": [
      "fortaleza\n"
     ]
    },
    {
     "data": {
      "application/vnd.jupyter.widget-view+json": {
       "model_id": "6139f7f4f42e4c42a58072eae67135c0",
       "version_major": 2,
       "version_minor": 0
      },
      "text/plain": [
       "HBox(children=(IntProgress(value=0, description='GridSearch', max=900, style=ProgressStyle(description_width='…"
      ]
     },
     "metadata": {},
     "output_type": "display_data"
    }
   ],
   "source": [
    "run_all_bases('ARIMAX', data)"
   ]
  },
  {
   "cell_type": "code",
   "execution_count": null,
   "metadata": {},
   "outputs": [],
   "source": []
  }
 ],
 "metadata": {
  "anaconda-cloud": {},
  "kernelspec": {
   "display_name": "Python 3",
   "language": "python",
   "name": "python3"
  },
  "language_info": {
   "codemirror_mode": {
    "name": "ipython",
    "version": 3
   },
   "file_extension": ".py",
   "mimetype": "text/x-python",
   "name": "python",
   "nbconvert_exporter": "python",
   "pygments_lexer": "ipython3",
   "version": "3.6.8"
  }
 },
 "nbformat": 4,
 "nbformat_minor": 1
}
