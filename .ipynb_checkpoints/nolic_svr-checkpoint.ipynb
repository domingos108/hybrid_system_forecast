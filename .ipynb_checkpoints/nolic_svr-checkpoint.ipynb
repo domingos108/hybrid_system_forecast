{
 "cells": [
  {
   "cell_type": "code",
   "execution_count": 33,
   "metadata": {},
   "outputs": [
    {
     "name": "stdout",
     "output_type": "stream",
     "text": [
      "The autoreload extension is already loaded. To reload it, use:\n",
      "  %reload_ext autoreload\n"
     ]
    }
   ],
   "source": [
    "import json\n",
    "from IPython.display import clear_output\n",
    "import time\n",
    "import warnings\n",
    "import os\n",
    "import glob\n",
    "from sklearn.svm import SVR\n",
    "from sklearn import preprocessing\n",
    "from sklearn.model_selection import ParameterGrid\n",
    "from tqdm import tnrange, tqdm_notebook\n",
    "import pandas as pd\n",
    "import numpy as np\n",
    "\n",
    "import matplotlib.pyplot as plt\n",
    "from matplotlib.pylab import rcParams\n",
    "\n",
    "import fit_predict_models as fpm\n",
    "import utils as ut\n",
    "\n",
    "warnings.filterwarnings('ignore')\n",
    "%matplotlib inline\n",
    "rcParams['figure.figsize'] = 15, 6\n",
    "\n",
    "%load_ext autoreload\n",
    "\n",
    "%autoreload 2"
   ]
  },
  {
   "cell_type": "code",
   "execution_count": 34,
   "metadata": {},
   "outputs": [],
   "source": [
    "def do_grid_search(linear_forecast,real,nonlinear_forecast,test_size,val_size):\n",
    "\n",
    "    parameters = {\n",
    "                  'c': [0.001, 0.01, 10, 100, 1000], \n",
    "                  'gamma': [0.1, 0.01, 0.001, 0.0001],\n",
    "                  'epsilon': [0.1, 0.01, 0.001], \n",
    "                  'tol': [0.01, 0.001, 0.0001],\n",
    "                  'time_window':[2,5,10,15,20]\n",
    "                 }\n",
    "\n",
    "    best_model = None\n",
    "    metric = 'MSE'\n",
    "    best_result = {'time_window':0,metric:None}\n",
    "    result_type = ut.result_options.val_result\n",
    "\n",
    "    list_params=list(ParameterGrid(parameters))\n",
    "    \n",
    "    for params in tqdm_notebook(list_params,desc='GridSearch'):\n",
    "        \n",
    "        result = None\n",
    "\n",
    "        forecaster = SVR(C=params['c'], gamma=params['gamma'], \n",
    "                         epsilon=params['epsilon'], tol=params['tol'],\n",
    "                         max_iter=100000)\n",
    " \n",
    "        result = fpm.nolic_model(linear_forecast=linear_forecast, \n",
    "                             nonlinear_forecast=nonlinear_forecast, \n",
    "                             real=real, \n",
    "                             time_window=1, \n",
    "                             base_model=forecaster, \n",
    "                             test_size=test_size,\n",
    "                             val_size=val_size,\n",
    "                             title='nolic_model', \n",
    "                             result_options=result_type,\n",
    "                             type_data=0)[metric]\n",
    "                        \n",
    "\n",
    "        if best_result[metric] == None:\n",
    "            best_model = forecaster\n",
    "            best_result[metric] = result\n",
    "            best_result['time_window'] = params['time_window']\n",
    "        else:\n",
    "\n",
    "            if best_result[metric] > result:\n",
    "                best_model = forecaster\n",
    "                best_result[metric] = result\n",
    "                best_result['time_window'] = params['time_window']\n",
    "\n",
    "    result_model = {'best_result': best_result, 'model': best_model}\n",
    "    return result_model"
   ]
  },
  {
   "cell_type": "code",
   "execution_count": 38,
   "metadata": {},
   "outputs": [],
   "source": [
    "def run_all_bases(base_model, error_model, data):\n",
    "    for i in data:\n",
    "        print(i['name'])\n",
    "        test_size = i['test_size']\n",
    "        val_size = i['val_size']\n",
    "        type_data = i['type_data']\n",
    "        \n",
    "        model_path = str(type_data)+'-zhang_'+base_model+'_'+error_model\n",
    "        model_path = './models_pkl/'+model_path\n",
    "        \n",
    "        model_execs = glob.glob(model_path+'/*')\n",
    "        result, _, hybrid_arima = ut.do_computations(i, model_execs, \n",
    "                                             'MSE', 'test_metrics')\n",
    "        print(result)\n",
    "        base_actual = pd.read_excel(open(i['path_data']\n",
    "                                      , 'rb'), sheet_name='Planilha1')\n",
    "        \n",
    "        real = base_actual['Target'].values\n",
    "\n",
    "        predicted = base_actual[base_model].values\n",
    "\n",
    "        error_forecaster_tw = len(predicted) - len(hybrid_arima['predicted_values'])\n",
    "\n",
    "        linear_forecast = predicted[error_forecaster_tw:]\n",
    "\n",
    "        nonlinear_forecast = hybrid_arima['predicted_values']\n",
    "        real = real[error_forecaster_tw:]\n",
    "        data_title = 'nolic_'+base_model+'_'+error_model+'_SVR'\n",
    "\n",
    "        gs_result = do_grid_search(linear_forecast=linear_forecast,\n",
    "                                   real=real,\n",
    "                                   nonlinear_forecast=nonlinear_forecast,\n",
    "                                   test_size=test_size,\n",
    "                                   val_size=val_size\n",
    "                                  )\n",
    "\n",
    "        print(gs_result)\n",
    "        os.mkdir(f'./models_pkl/{type_data}-{data_title}')\n",
    "        title_temp = f'{type_data}-{data_title}/{type_data}-{data_title}'  \n",
    "\n",
    "        fpm.nolic_model(linear_forecast=linear_forecast, \n",
    "                        nonlinear_forecast=nonlinear_forecast, \n",
    "                        real=real, \n",
    "                        time_window=gs_result['best_result']['time_window'], \n",
    "                        base_model=gs_result['model'], \n",
    "                        test_size=test_size,\n",
    "                        val_size=val_size,\n",
    "                        title=f'./models_pkl/{title_temp}', \n",
    "                        result_options=ut.result_options.save_result,\n",
    "                        type_data=type_data)\n"
   ]
  },
  {
   "cell_type": "code",
   "execution_count": 39,
   "metadata": {},
   "outputs": [],
   "source": [
    "with open('./models_configuration_60_20_20.json') as f:\n",
    "    data = json.load(f)"
   ]
  },
  {
   "cell_type": "code",
   "execution_count": 40,
   "metadata": {
    "scrolled": true
   },
   "outputs": [
    {
     "name": "stdout",
     "output_type": "stream",
     "text": [
      "fortaleza\n",
      "        MSE       MAPE       ARV     theil       MAE\n",
      "0  0.132765  10.026068  0.351027  0.949472  0.283099\n"
     ]
    },
    {
     "data": {
      "application/vnd.jupyter.widget-view+json": {
       "model_id": "450fd269c3bf4fe7be8ff94bb4ee9865",
       "version_major": 2,
       "version_minor": 0
      },
      "text/plain": [
       "HBox(children=(IntProgress(value=0, description='GridSearch', max=900, style=ProgressStyle(description_width='…"
      ]
     },
     "metadata": {},
     "output_type": "display_data"
    },
    {
     "name": "stdout",
     "output_type": "stream",
     "text": [
      "\n",
      "{'best_result': {'time_window': 2, 'MSE': 0.108366210343824}, 'model': SVR(C=1000, cache_size=200, coef0=0.0, degree=3, epsilon=0.1, gamma=0.001,\n",
      "    kernel='rbf', max_iter=100000, shrinking=True, tol=0.0001, verbose=False)}\n"
     ]
    },
    {
     "ename": "TypeError",
     "evalue": "nolic_model() got an unexpected keyword argument 'normalize'",
     "output_type": "error",
     "traceback": [
      "\u001b[0;31m---------------------------------------------------------------------------\u001b[0m",
      "\u001b[0;31mTypeError\u001b[0m                                 Traceback (most recent call last)",
      "\u001b[0;32m<ipython-input-40-715eef602b97>\u001b[0m in \u001b[0;36m<module>\u001b[0;34m\u001b[0m\n\u001b[0;32m----> 1\u001b[0;31m \u001b[0mrun_all_bases\u001b[0m\u001b[0;34m(\u001b[0m\u001b[0;34m'ARIMA'\u001b[0m\u001b[0;34m,\u001b[0m \u001b[0;34m'SVR'\u001b[0m\u001b[0;34m,\u001b[0m \u001b[0mdata\u001b[0m\u001b[0;34m)\u001b[0m\u001b[0;34m\u001b[0m\u001b[0;34m\u001b[0m\u001b[0m\n\u001b[0m",
      "\u001b[0;32m<ipython-input-38-50188cbb5927>\u001b[0m in \u001b[0;36mrun_all_bases\u001b[0;34m(base_model, error_model, data)\u001b[0m\n\u001b[1;32m     49\u001b[0m                         \u001b[0mtitle\u001b[0m\u001b[0;34m=\u001b[0m\u001b[0;34mf'./models_pkl/{title_temp}'\u001b[0m\u001b[0;34m,\u001b[0m\u001b[0;34m\u001b[0m\u001b[0;34m\u001b[0m\u001b[0m\n\u001b[1;32m     50\u001b[0m                         \u001b[0mresult_options\u001b[0m\u001b[0;34m=\u001b[0m\u001b[0mut\u001b[0m\u001b[0;34m.\u001b[0m\u001b[0mresult_options\u001b[0m\u001b[0;34m.\u001b[0m\u001b[0msave_result\u001b[0m\u001b[0;34m,\u001b[0m\u001b[0;34m\u001b[0m\u001b[0;34m\u001b[0m\u001b[0m\n\u001b[0;32m---> 51\u001b[0;31m                         type_data=type_data)\n\u001b[0m",
      "\u001b[0;31mTypeError\u001b[0m: nolic_model() got an unexpected keyword argument 'normalize'"
     ]
    }
   ],
   "source": [
    "run_all_bases('ARIMA', 'SVR', data)"
   ]
  },
  {
   "cell_type": "code",
   "execution_count": null,
   "metadata": {},
   "outputs": [],
   "source": [
    "run_all_bases('ARIMAX', 'SVR', data)"
   ]
  },
  {
   "cell_type": "code",
   "execution_count": null,
   "metadata": {},
   "outputs": [],
   "source": [
    "run_all_bases('ARIMA', 'MLP', data)"
   ]
  },
  {
   "cell_type": "code",
   "execution_count": null,
   "metadata": {},
   "outputs": [],
   "source": [
    "run_all_bases('ARIMAX', 'MLP', data)"
   ]
  },
  {
   "cell_type": "code",
   "execution_count": null,
   "metadata": {},
   "outputs": [],
   "source": []
  }
 ],
 "metadata": {
  "anaconda-cloud": {},
  "kernelspec": {
   "display_name": "Python 3",
   "language": "python",
   "name": "python3"
  },
  "language_info": {
   "codemirror_mode": {
    "name": "ipython",
    "version": 3
   },
   "file_extension": ".py",
   "mimetype": "text/x-python",
   "name": "python",
   "nbconvert_exporter": "python",
   "pygments_lexer": "ipython3",
   "version": "3.6.8"
  }
 },
 "nbformat": 4,
 "nbformat_minor": 1
}
