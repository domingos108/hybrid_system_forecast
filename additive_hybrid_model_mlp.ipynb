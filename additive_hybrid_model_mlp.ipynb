{
 "cells": [
  {
   "cell_type": "code",
   "execution_count": 18,
   "metadata": {
    "ExecuteTime": {
     "end_time": "2019-02-26T00:52:57.958579Z",
     "start_time": "2019-02-26T00:52:56.662153Z"
    }
   },
   "outputs": [
    {
     "name": "stdout",
     "output_type": "stream",
     "text": [
      "The autoreload extension is already loaded. To reload it, use:\n",
      "  %reload_ext autoreload\n"
     ]
    }
   ],
   "source": [
    "import json\n",
    "from IPython.display import clear_output\n",
    "import time\n",
    "import warnings\n",
    "import os\n",
    "\n",
    "from sklearn.neural_network import MLPRegressor\n",
    "from sklearn import preprocessing\n",
    "from sklearn.model_selection import ParameterGrid\n",
    "from tqdm import tnrange, tqdm_notebook\n",
    "import pandas as pd\n",
    "import numpy as np\n",
    "\n",
    "\n",
    "import fit_predict_models as fpm\n",
    "import utils as ut\n",
    "\n",
    "warnings.filterwarnings('ignore')\n",
    "\n",
    "%load_ext autoreload\n",
    "\n",
    "%autoreload 2"
   ]
  },
  {
   "cell_type": "code",
   "execution_count": 19,
   "metadata": {
    "ExecuteTime": {
     "end_time": "2019-02-26T00:52:57.991906Z",
     "start_time": "2019-02-26T00:52:57.963437Z"
    }
   },
   "outputs": [],
   "source": [
    "def do_grid_search(predicted,real,test_size,val_size):\n",
    "\n",
    "    parameters = {'hidden_layer_sizes': [2,5,10,15,20,50], \n",
    "                  'max_iter': [1000],\n",
    "                  'learning_rate_init': [0.1,0.9,0.001,0.0001],\n",
    "                  'time_window': [2,5,10,15,20]\n",
    "                 }\n",
    "\n",
    "    best_model = None\n",
    "    metric = 'MSE'\n",
    "    best_result = {'time_window':0,metric:None}\n",
    "    result_type = ut.result_options.val_result\n",
    "\n",
    "    list_params=list(ParameterGrid(parameters))\n",
    "    \n",
    "    for params in tqdm_notebook(list_params,desc='GridSearch'):\n",
    "        \n",
    "        result = None\n",
    "\n",
    "        forecaster =MLPRegressor(activation='logistic', alpha=0.0001, \n",
    "                                batch_size='auto', beta_1=0.9,\n",
    "                                beta_2=0.999, early_stopping=False, epsilon=1e-08,\n",
    "                                hidden_layer_sizes=(params['hidden_layer_sizes'],), \n",
    "                                learning_rate='constant',\n",
    "                                learning_rate_init=params['learning_rate_init'], \n",
    "                                max_iter=params['max_iter'], momentum=0.9,\n",
    "                                nesterovs_momentum=True, power_t=0.5, \n",
    "                                random_state=None,\n",
    "                                shuffle=False, solver='lbfgs', tol=0.00000001, \n",
    "                                validation_fraction=0.1,\n",
    "                                verbose=False, warm_start=False)  \n",
    "        result_atual = []\n",
    "        for t in range(0,10):\n",
    "            result_atual.append(fpm.additive_hybrid_model(predicted,real,\n",
    "                                                         time_window=params['time_window'],\n",
    "                                                        base_model=forecaster,\n",
    "                                                        test_size=test_size,\n",
    "                                                        val_size=val_size,\n",
    "                                                        result_options=result_type,\n",
    "                                                        title='None',\n",
    "                                                        type_data=0)[metric])\n",
    "\n",
    "        result = np.mean(np.array(result_atual))\n",
    "\n",
    "        if best_result[metric] == None:\n",
    "            best_model = forecaster\n",
    "            best_result[metric] = result\n",
    "            best_result['time_window'] = params['time_window']\n",
    "        else:\n",
    "\n",
    "            if best_result[metric] > result:\n",
    "                best_model = forecaster\n",
    "                best_result[metric] = result\n",
    "                best_result['time_window'] = params['time_window']\n",
    "\n",
    "    result_model = {'best_result': best_result, 'model': best_model}\n",
    "    return result_model"
   ]
  },
  {
   "cell_type": "code",
   "execution_count": 30,
   "metadata": {},
   "outputs": [],
   "source": [
    "def run_all_bases(base_model, data):\n",
    "    for i in data:\n",
    "        clear_output()\n",
    "        base_actual = pd.read_excel(open(i['path_data']\n",
    "                              , 'rb'), sheet_name='Planilha1')\n",
    "        \n",
    "        real = base_actual['Target'].values\n",
    "\n",
    "        predicted = base_actual[base_model].values\n",
    "\n",
    "        data_title = 'zhang_'+str(base_model)+'_MLP'\n",
    "\n",
    "        print(i['name'])\n",
    "        test_size=i['test_size']\n",
    "        val_size= i['val_size']\n",
    "        type_data = i['type_data']\n",
    "        gs_result = do_grid_search(predicted=predicted,real=real,\n",
    "                                   test_size=test_size,val_size=val_size)\n",
    "        print(gs_result)\n",
    "        os.mkdir(f'./models_pkl/{type_data}-{data_title}')\n",
    "        title_temp = f'{type_data}-{data_title}/{type_data}-{data_title}'\n",
    "\n",
    "        for i in range(0,30):\n",
    "            fpm.additive_hybrid_model(predicted=predicted,real=real,\n",
    "                                     time_window=gs_result['best_result']['time_window'],\n",
    "                                     base_model=gs_result['model'],test_size=test_size,\n",
    "                                     val_size=val_size, result_options=ut.result_options.save_result,\n",
    "                                     title=f'./models_pkl/{title_temp}', type_data=type_data)\n",
    "            time.sleep(1)"
   ]
  },
  {
   "cell_type": "code",
   "execution_count": 31,
   "metadata": {},
   "outputs": [
    {
     "name": "stdout",
     "output_type": "stream",
     "text": [
      "recife\n"
     ]
    },
    {
     "data": {
      "application/vnd.jupyter.widget-view+json": {
       "model_id": "a3576b20990f4a1eb6a91061beddea08",
       "version_major": 2,
       "version_minor": 0
      },
      "text/plain": [
       "HBox(children=(IntProgress(value=0, description='GridSearch', max=1, style=ProgressStyle(description_width='in…"
      ]
     },
     "metadata": {},
     "output_type": "display_data"
    },
    {
     "name": "stdout",
     "output_type": "stream",
     "text": [
      "{'best_result': {'time_window': 15, 'MSE': 0.7106812611954381}, 'model': MLPRegressor(activation='logistic', alpha=0.0001, batch_size='auto', beta_1=0.9,\n",
      "             beta_2=0.999, early_stopping=False, epsilon=1e-08,\n",
      "             hidden_layer_sizes=(2,), learning_rate='constant',\n",
      "             learning_rate_init=0.01, max_iter=1000, momentum=0.9,\n",
      "             n_iter_no_change=10, nesterovs_momentum=True, power_t=0.5,\n",
      "             random_state=None, shuffle=False, solver='lbfgs', tol=1e-08,\n",
      "             validation_fraction=0.1, verbose=False, warm_start=False)}\n"
     ]
    }
   ],
   "source": [
    "with open('./models_configuration_60_20_20.json') as f:\n",
    "    data = json.load(f)\n",
    "    \n",
    "run_all_bases('ARIMA', data)"
   ]
  },
  {
   "cell_type": "code",
   "execution_count": 32,
   "metadata": {},
   "outputs": [
    {
     "name": "stdout",
     "output_type": "stream",
     "text": [
      "recife\n"
     ]
    },
    {
     "data": {
      "application/vnd.jupyter.widget-view+json": {
       "model_id": "528b81d453f64d87910509e1f210302a",
       "version_major": 2,
       "version_minor": 0
      },
      "text/plain": [
       "HBox(children=(IntProgress(value=0, description='GridSearch', max=1, style=ProgressStyle(description_width='in…"
      ]
     },
     "metadata": {},
     "output_type": "display_data"
    },
    {
     "name": "stdout",
     "output_type": "stream",
     "text": [
      "{'best_result': {'time_window': 15, 'MSE': 0.46972471473208843}, 'model': MLPRegressor(activation='logistic', alpha=0.0001, batch_size='auto', beta_1=0.9,\n",
      "             beta_2=0.999, early_stopping=False, epsilon=1e-08,\n",
      "             hidden_layer_sizes=(2,), learning_rate='constant',\n",
      "             learning_rate_init=0.01, max_iter=1000, momentum=0.9,\n",
      "             n_iter_no_change=10, nesterovs_momentum=True, power_t=0.5,\n",
      "             random_state=None, shuffle=False, solver='lbfgs', tol=1e-08,\n",
      "             validation_fraction=0.1, verbose=False, warm_start=False)}\n"
     ]
    }
   ],
   "source": [
    "run_all_bases('ARIMAX', data)"
   ]
  },
  {
   "cell_type": "code",
   "execution_count": null,
   "metadata": {},
   "outputs": [],
   "source": []
  }
 ],
 "metadata": {
  "anaconda-cloud": {},
  "kernelspec": {
   "display_name": "Python 3",
   "language": "python",
   "name": "python3"
  },
  "language_info": {
   "codemirror_mode": {
    "name": "ipython",
    "version": 3
   },
   "file_extension": ".py",
   "mimetype": "text/x-python",
   "name": "python",
   "nbconvert_exporter": "python",
   "pygments_lexer": "ipython3",
   "version": "3.6.8"
  },
  "varInspector": {
   "cols": {
    "lenName": 16,
    "lenType": 16,
    "lenVar": 40
   },
   "kernels_config": {
    "python": {
     "delete_cmd_postfix": "",
     "delete_cmd_prefix": "del ",
     "library": "var_list.py",
     "varRefreshCmd": "print(var_dic_list())"
    },
    "r": {
     "delete_cmd_postfix": ") ",
     "delete_cmd_prefix": "rm(",
     "library": "var_list.r",
     "varRefreshCmd": "cat(var_dic_list()) "
    }
   },
   "types_to_exclude": [
    "module",
    "function",
    "builtin_function_or_method",
    "instance",
    "_Feature"
   ],
   "window_display": false
  }
 },
 "nbformat": 4,
 "nbformat_minor": 1
}
